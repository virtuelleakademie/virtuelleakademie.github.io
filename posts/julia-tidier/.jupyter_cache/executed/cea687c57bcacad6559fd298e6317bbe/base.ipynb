{
 "cells": [
  {
   "cell_type": "code",
   "execution_count": 1,
   "id": "9b3671b0",
   "metadata": {},
   "outputs": [],
   "source": [
    "import IJulia\n",
    "import Base64\n",
    "\n",
    "# The julia kernel has built in support for Revise.jl, so this is the \n",
    "# recommended approach for long-running sessions:\n",
    "# https://github.com/JuliaLang/IJulia.jl/blob/9b10fa9b879574bbf720f5285029e07758e50a5e/src/kernel.jl#L46-L51\n",
    "\n",
    "# Users should enable revise within .julia/config/startup_ijulia.jl:\n",
    "# https://timholy.github.io/Revise.jl/stable/config/#Using-Revise-automatically-within-Jupyter/IJulia-1\n",
    "\n",
    "# clear console history\n",
    "IJulia.clear_history()\n",
    "\n",
    "fig_width = 7\n",
    "fig_height = 5\n",
    "fig_format = :retina\n",
    "fig_dpi = 96\n",
    "\n",
    "# no retina format type, use svg for high quality type/marks\n",
    "if fig_format == :retina\n",
    "  fig_format = :svg\n",
    "elseif fig_format == :pdf\n",
    "  fig_dpi = 96\n",
    "  # Enable PDF support for IJulia\n",
    "  IJulia.register_mime(MIME(\"application/pdf\"))\n",
    "end\n",
    "\n",
    "# convert inches to pixels\n",
    "fig_width = fig_width * fig_dpi\n",
    "fig_height = fig_height * fig_dpi\n",
    "\n",
    "# Intialize Plots w/ default fig width/height\n",
    "try\n",
    "  import Plots\n",
    "\n",
    "  # Plots.jl doesn't support PDF output for versions < 1.28.1\n",
    "  # so use png (if the DPI remains the default of 300 then set to 96)\n",
    "  if (Plots._current_plots_version < v\"1.28.1\") & (fig_format == :pdf)\n",
    "    Plots.gr(size=(fig_width, fig_height), fmt = :png, dpi = fig_dpi)\n",
    "  else\n",
    "    Plots.gr(size=(fig_width, fig_height), fmt = fig_format, dpi = fig_dpi)\n",
    "  end\n",
    "catch e\n",
    "  # @warn \"Plots init\" exception=(e, catch_backtrace())\n",
    "end\n",
    "\n",
    "# Initialize CairoMakie with default fig width/height\n",
    "try\n",
    "  import CairoMakie\n",
    "\n",
    "  # CairoMakie's display() in PDF format opens an interactive window\n",
    "  # instead of saving to the ipynb file, so we don't do that.\n",
    "  # https://github.com/quarto-dev/quarto-cli/issues/7548\n",
    "  if fig_format == :pdf\n",
    "    CairoMakie.activate!(type = \"png\")\n",
    "  else\n",
    "    CairoMakie.activate!(type = string(fig_format))\n",
    "  end\n",
    "  CairoMakie.update_theme!(resolution=(fig_width, fig_height))\n",
    "catch e\n",
    "    # @warn \"CairoMakie init\" exception=(e, catch_backtrace())\n",
    "end\n",
    "  \n",
    "# Set run_path if specified\n",
    "try\n",
    "  run_path = \"L1VzZXJzL2FuZHJldy9HaXRIdWIvc2l0ZXMvdmlydHVlbGxlYWthZGVtaWUuZ2l0aHViLmlvL3Bvc3RzL2p1bGlhLXRpZGllcg==\"\n",
    "  if !isempty(run_path)\n",
    "    run_path = String(Base64.base64decode(run_path))\n",
    "    cd(run_path)\n",
    "  end\n",
    "catch e\n",
    "  @warn \"Run path init:\" exception=(e, catch_backtrace())\n",
    "end\n",
    "\n",
    "\n",
    "# emulate old Pkg.installed beahvior, see\n",
    "# https://discourse.julialang.org/t/how-to-use-pkg-dependencies-instead-of-pkg-installed/36416/9\n",
    "import Pkg\n",
    "function isinstalled(pkg::String)\n",
    "  any(x -> x.name == pkg && x.is_direct_dep, values(Pkg.dependencies()))\n",
    "end\n",
    "\n",
    "# ojs_define\n",
    "if isinstalled(\"JSON\") && isinstalled(\"DataFrames\")\n",
    "  import JSON, DataFrames\n",
    "  global function ojs_define(; kwargs...)\n",
    "    convert(x) = x\n",
    "    convert(x::DataFrames.AbstractDataFrame) = Tables.rows(x)\n",
    "    content = Dict(\"contents\" => [Dict(\"name\" => k, \"value\" => convert(v)) for (k, v) in kwargs])\n",
    "    tag = \"<script type='ojs-define'>$(JSON.json(content))</script>\"\n",
    "    IJulia.display(MIME(\"text/html\"), tag)\n",
    "  end\n",
    "elseif isinstalled(\"JSON\")\n",
    "  import JSON\n",
    "  global function ojs_define(; kwargs...)\n",
    "    content = Dict(\"contents\" => [Dict(\"name\" => k, \"value\" => v) for (k, v) in kwargs])\n",
    "    tag = \"<script type='ojs-define'>$(JSON.json(content))</script>\"\n",
    "    IJulia.display(MIME(\"text/html\"), tag)\n",
    "  end\n",
    "else\n",
    "  global function ojs_define(; kwargs...)\n",
    "    @warn \"JSON package not available. Please install the JSON.jl package to use ojs_define.\"\n",
    "  end\n",
    "end\n",
    "\n",
    "\n",
    "# don't return kernel dependencies (b/c Revise should take care of dependencies)\n",
    "nothing\n"
   ]
  },
  {
   "cell_type": "code",
   "execution_count": 2,
   "id": "72cf2ed2",
   "metadata": {},
   "outputs": [
    {
     "name": "stdout",
     "output_type": "stream",
     "text": [
      "Julia version: 1.11.5\n",
      "Tidier.jl version: v1.2.0\n"
     ]
    }
   ],
   "source": [
    "# Load required packages\n",
    "using Tidier\n",
    "using DataFrames\n",
    "using Random\n",
    "using Statistics\n",
    "\n",
    "# Set random seed for reproducibility\n",
    "Random.seed!(123)\n",
    "\n",
    "# Display Julia and package versions\n",
    "println(\"Julia version: \", VERSION)\n",
    "println(\"Tidier.jl version: v1.2.0\")"
   ]
  },
  {
   "cell_type": "code",
   "execution_count": 3,
   "id": "a536d5c0",
   "metadata": {},
   "outputs": [
    {
     "name": "stdout",
     "output_type": "stream",
     "text": [
      "Dataset shape: ("
     ]
    },
    {
     "name": "stdout",
     "output_type": "stream",
     "text": [
      "100, 6)\n"
     ]
    },
    {
     "data": {
      "text/html": [
       "<div><div style = \"float: left;\"><span>5×6 DataFrame</span></div><div style = \"clear: both;\"></div></div><div class = \"data-frame\" style = \"overflow-x: scroll;\"><table class = \"data-frame\" style = \"margin-bottom: 6px;\"><thead><tr class = \"header\"><th class = \"rowNumber\" style = \"font-weight: bold; text-align: right;\">Row</th><th style = \"text-align: left;\">id</th><th style = \"text-align: left;\">name</th><th style = \"text-align: left;\">math_score</th><th style = \"text-align: left;\">science_score</th><th style = \"text-align: left;\">program</th><th style = \"text-align: left;\">grade_level</th></tr><tr class = \"subheader headerLastRow\"><th class = \"rowNumber\" style = \"font-weight: bold; text-align: right;\"></th><th title = \"Int64\" style = \"text-align: left;\">Int64</th><th title = \"String\" style = \"text-align: left;\">String</th><th title = \"Int64\" style = \"text-align: left;\">Int64</th><th title = \"Int64\" style = \"text-align: left;\">Int64</th><th title = \"String\" style = \"text-align: left;\">String</th><th title = \"Int64\" style = \"text-align: left;\">Int64</th></tr></thead><tbody><tr><td class = \"rowNumber\" style = \"font-weight: bold; text-align: right;\">1</td><td style = \"text-align: right;\">1</td><td style = \"text-align: left;\">Student 1</td><td style = \"text-align: right;\">81</td><td style = \"text-align: right;\">81</td><td style = \"text-align: left;\">Physics</td><td style = \"text-align: right;\">1</td></tr><tr><td class = \"rowNumber\" style = \"font-weight: bold; text-align: right;\">2</td><td style = \"text-align: right;\">2</td><td style = \"text-align: left;\">Student 2</td><td style = \"text-align: right;\">84</td><td style = \"text-align: right;\">57</td><td style = \"text-align: left;\">Physics</td><td style = \"text-align: right;\">4</td></tr><tr><td class = \"rowNumber\" style = \"font-weight: bold; text-align: right;\">3</td><td style = \"text-align: right;\">3</td><td style = \"text-align: left;\">Student 3</td><td style = \"text-align: right;\">96</td><td style = \"text-align: right;\">82</td><td style = \"text-align: left;\">Physics</td><td style = \"text-align: right;\">3</td></tr><tr><td class = \"rowNumber\" style = \"font-weight: bold; text-align: right;\">4</td><td style = \"text-align: right;\">4</td><td style = \"text-align: left;\">Student 4</td><td style = \"text-align: right;\">67</td><td style = \"text-align: right;\">64</td><td style = \"text-align: left;\">Math</td><td style = \"text-align: right;\">4</td></tr><tr><td class = \"rowNumber\" style = \"font-weight: bold; text-align: right;\">5</td><td style = \"text-align: right;\">5</td><td style = \"text-align: left;\">Student 5</td><td style = \"text-align: right;\">81</td><td style = \"text-align: right;\">83</td><td style = \"text-align: left;\">Physics</td><td style = \"text-align: right;\">3</td></tr></tbody></table></div>"
      ],
      "text/latex": [
       "\\begin{tabular}{r|cccccc}\n",
       "\t& id & name & math\\_score & science\\_score & program & grade\\_level\\\\\n",
       "\t\\hline\n",
       "\t& Int64 & String & Int64 & Int64 & String & Int64\\\\\n",
       "\t\\hline\n",
       "\t1 & 1 & Student 1 & 81 & 81 & Physics & 1 \\\\\n",
       "\t2 & 2 & Student 2 & 84 & 57 & Physics & 4 \\\\\n",
       "\t3 & 3 & Student 3 & 96 & 82 & Physics & 3 \\\\\n",
       "\t4 & 4 & Student 4 & 67 & 64 & Math & 4 \\\\\n",
       "\t5 & 5 & Student 5 & 81 & 83 & Physics & 3 \\\\\n",
       "\\end{tabular}\n"
      ],
      "text/plain": [
       "\u001b[1m5×6 DataFrame\u001b[0m\n",
       "\u001b[1m Row \u001b[0m│\u001b[1m id    \u001b[0m\u001b[1m name      \u001b[0m\u001b[1m math_score \u001b[0m\u001b[1m science_score \u001b[0m\u001b[1m program \u001b[0m\u001b[1m grade_level \u001b[0m\n",
       "     │\u001b[90m Int64 \u001b[0m\u001b[90m String    \u001b[0m\u001b[90m Int64      \u001b[0m\u001b[90m Int64         \u001b[0m\u001b[90m String  \u001b[0m\u001b[90m Int64       \u001b[0m\n",
       "─────┼───────────────────────────────────────────────────────────────────\n",
       "   1 │     1  Student 1          81             81  Physics            1\n",
       "   2 │     2  Student 2          84             57  Physics            4\n",
       "   3 │     3  Student 3          96             82  Physics            3\n",
       "   4 │     4  Student 4          67             64  Math               4\n",
       "   5 │     5  Student 5          81             83  Physics            3"
      ]
     },
     "execution_count": 3,
     "metadata": {},
     "output_type": "execute_result"
    }
   ],
   "source": [
    "# Create a simple dataset for demonstration\n",
    "students = DataFrame(\n",
    "    id = 1:100,\n",
    "    name = [\"Student $i\" for i in 1:100],\n",
    "    math_score = rand(60:100, 100),\n",
    "    science_score = rand(55:100, 100),\n",
    "    program = rand([\"CS\", \"Math\", \"Physics\"], 100),\n",
    "    grade_level = rand([1, 2, 3, 4], 100)\n",
    ")\n",
    "\n",
    "println(\"Dataset shape: \", size(students))\n",
    "first(students, 5)"
   ]
  },
  {
   "cell_type": "code",
   "execution_count": 4,
   "id": "9a073716",
   "metadata": {},
   "outputs": [
    {
     "data": {
      "text/html": [
       "<div><div style = \"float: left;\"><span>5×7 DataFrame</span></div><div style = \"clear: both;\"></div></div><div class = \"data-frame\" style = \"overflow-x: scroll;\"><table class = \"data-frame\" style = \"margin-bottom: 6px;\"><thead><tr class = \"header\"><th class = \"rowNumber\" style = \"font-weight: bold; text-align: right;\">Row</th><th style = \"text-align: left;\">id</th><th style = \"text-align: left;\">name</th><th style = \"text-align: left;\">math_score</th><th style = \"text-align: left;\">science_score</th><th style = \"text-align: left;\">program</th><th style = \"text-align: left;\">grade_level</th><th style = \"text-align: left;\">total</th></tr><tr class = \"subheader headerLastRow\"><th class = \"rowNumber\" style = \"font-weight: bold; text-align: right;\"></th><th title = \"Int64\" style = \"text-align: left;\">Int64</th><th title = \"String\" style = \"text-align: left;\">String</th><th title = \"Int64\" style = \"text-align: left;\">Int64</th><th title = \"Int64\" style = \"text-align: left;\">Int64</th><th title = \"String\" style = \"text-align: left;\">String</th><th title = \"Int64\" style = \"text-align: left;\">Int64</th><th title = \"Int64\" style = \"text-align: left;\">Int64</th></tr></thead><tbody><tr><td class = \"rowNumber\" style = \"font-weight: bold; text-align: right;\">1</td><td style = \"text-align: right;\">1</td><td style = \"text-align: left;\">Student 1</td><td style = \"text-align: right;\">81</td><td style = \"text-align: right;\">81</td><td style = \"text-align: left;\">Physics</td><td style = \"text-align: right;\">1</td><td style = \"text-align: right;\">162</td></tr><tr><td class = \"rowNumber\" style = \"font-weight: bold; text-align: right;\">2</td><td style = \"text-align: right;\">2</td><td style = \"text-align: left;\">Student 2</td><td style = \"text-align: right;\">84</td><td style = \"text-align: right;\">57</td><td style = \"text-align: left;\">Physics</td><td style = \"text-align: right;\">4</td><td style = \"text-align: right;\">141</td></tr><tr><td class = \"rowNumber\" style = \"font-weight: bold; text-align: right;\">3</td><td style = \"text-align: right;\">3</td><td style = \"text-align: left;\">Student 3</td><td style = \"text-align: right;\">96</td><td style = \"text-align: right;\">82</td><td style = \"text-align: left;\">Physics</td><td style = \"text-align: right;\">3</td><td style = \"text-align: right;\">178</td></tr><tr><td class = \"rowNumber\" style = \"font-weight: bold; text-align: right;\">4</td><td style = \"text-align: right;\">4</td><td style = \"text-align: left;\">Student 4</td><td style = \"text-align: right;\">67</td><td style = \"text-align: right;\">64</td><td style = \"text-align: left;\">Math</td><td style = \"text-align: right;\">4</td><td style = \"text-align: right;\">131</td></tr><tr><td class = \"rowNumber\" style = \"font-weight: bold; text-align: right;\">5</td><td style = \"text-align: right;\">5</td><td style = \"text-align: left;\">Student 5</td><td style = \"text-align: right;\">81</td><td style = \"text-align: right;\">83</td><td style = \"text-align: left;\">Physics</td><td style = \"text-align: right;\">3</td><td style = \"text-align: right;\">164</td></tr></tbody></table></div>"
      ],
      "text/latex": [
       "\\begin{tabular}{r|ccccccc}\n",
       "\t& id & name & math\\_score & science\\_score & program & grade\\_level & total\\\\\n",
       "\t\\hline\n",
       "\t& Int64 & String & Int64 & Int64 & String & Int64 & Int64\\\\\n",
       "\t\\hline\n",
       "\t1 & 1 & Student 1 & 81 & 81 & Physics & 1 & 162 \\\\\n",
       "\t2 & 2 & Student 2 & 84 & 57 & Physics & 4 & 141 \\\\\n",
       "\t3 & 3 & Student 3 & 96 & 82 & Physics & 3 & 178 \\\\\n",
       "\t4 & 4 & Student 4 & 67 & 64 & Math & 4 & 131 \\\\\n",
       "\t5 & 5 & Student 5 & 81 & 83 & Physics & 3 & 164 \\\\\n",
       "\\end{tabular}\n"
      ],
      "text/plain": [
       "\u001b[1m5×7 DataFrame\u001b[0m\n",
       "\u001b[1m Row \u001b[0m│\u001b[1m id    \u001b[0m\u001b[1m name      \u001b[0m\u001b[1m math_score \u001b[0m\u001b[1m science_score \u001b[0m\u001b[1m program \u001b[0m\u001b[1m grade_level \u001b[0m\u001b[1m tota\u001b[0m ⋯\n",
       "     │\u001b[90m Int64 \u001b[0m\u001b[90m String    \u001b[0m\u001b[90m Int64      \u001b[0m\u001b[90m Int64         \u001b[0m\u001b[90m String  \u001b[0m\u001b[90m Int64       \u001b[0m\u001b[90m Int6\u001b[0m ⋯\n",
       "─────┼──────────────────────────────────────────────────────────────────────────\n",
       "   1 │     1  Student 1          81             81  Physics            1    16 ⋯\n",
       "   2 │     2  Student 2          84             57  Physics            4    14\n",
       "   3 │     3  Student 3          96             82  Physics            3    17\n",
       "   4 │     4  Student 4          67             64  Math               4    13\n",
       "   5 │     5  Student 5          81             83  Physics            3    16 ⋯\n",
       "\u001b[36m                                                                1 column omitted\u001b[0m"
      ]
     },
     "execution_count": 4,
     "metadata": {},
     "output_type": "execute_result"
    }
   ],
   "source": [
    "# Add a total score column\n",
    "students = @mutate(students, total = math_score + science_score)\n",
    "first(students, 5)"
   ]
  },
  {
   "cell_type": "code",
   "execution_count": 5,
   "id": "358d59f5",
   "metadata": {},
   "outputs": [
    {
     "name": "stdout",
     "output_type": "stream",
     "text": [
      "Students with math score >= 90: 26"
     ]
    },
    {
     "name": "stdout",
     "output_type": "stream",
     "text": [
      "\n"
     ]
    },
    {
     "data": {
      "text/html": [
       "<div><div style = \"float: left;\"><span>5×7 DataFrame</span></div><div style = \"clear: both;\"></div></div><div class = \"data-frame\" style = \"overflow-x: scroll;\"><table class = \"data-frame\" style = \"margin-bottom: 6px;\"><thead><tr class = \"header\"><th class = \"rowNumber\" style = \"font-weight: bold; text-align: right;\">Row</th><th style = \"text-align: left;\">id</th><th style = \"text-align: left;\">name</th><th style = \"text-align: left;\">math_score</th><th style = \"text-align: left;\">science_score</th><th style = \"text-align: left;\">program</th><th style = \"text-align: left;\">grade_level</th><th style = \"text-align: left;\">total</th></tr><tr class = \"subheader headerLastRow\"><th class = \"rowNumber\" style = \"font-weight: bold; text-align: right;\"></th><th title = \"Int64\" style = \"text-align: left;\">Int64</th><th title = \"String\" style = \"text-align: left;\">String</th><th title = \"Int64\" style = \"text-align: left;\">Int64</th><th title = \"Int64\" style = \"text-align: left;\">Int64</th><th title = \"String\" style = \"text-align: left;\">String</th><th title = \"Int64\" style = \"text-align: left;\">Int64</th><th title = \"Int64\" style = \"text-align: left;\">Int64</th></tr></thead><tbody><tr><td class = \"rowNumber\" style = \"font-weight: bold; text-align: right;\">1</td><td style = \"text-align: right;\">3</td><td style = \"text-align: left;\">Student 3</td><td style = \"text-align: right;\">96</td><td style = \"text-align: right;\">82</td><td style = \"text-align: left;\">Physics</td><td style = \"text-align: right;\">3</td><td style = \"text-align: right;\">178</td></tr><tr><td class = \"rowNumber\" style = \"font-weight: bold; text-align: right;\">2</td><td style = \"text-align: right;\">8</td><td style = \"text-align: left;\">Student 8</td><td style = \"text-align: right;\">98</td><td style = \"text-align: right;\">98</td><td style = \"text-align: left;\">CS</td><td style = \"text-align: right;\">2</td><td style = \"text-align: right;\">196</td></tr><tr><td class = \"rowNumber\" style = \"font-weight: bold; text-align: right;\">3</td><td style = \"text-align: right;\">12</td><td style = \"text-align: left;\">Student 12</td><td style = \"text-align: right;\">94</td><td style = \"text-align: right;\">67</td><td style = \"text-align: left;\">CS</td><td style = \"text-align: right;\">4</td><td style = \"text-align: right;\">161</td></tr><tr><td class = \"rowNumber\" style = \"font-weight: bold; text-align: right;\">4</td><td style = \"text-align: right;\">22</td><td style = \"text-align: left;\">Student 22</td><td style = \"text-align: right;\">100</td><td style = \"text-align: right;\">83</td><td style = \"text-align: left;\">Physics</td><td style = \"text-align: right;\">3</td><td style = \"text-align: right;\">183</td></tr><tr><td class = \"rowNumber\" style = \"font-weight: bold; text-align: right;\">5</td><td style = \"text-align: right;\">23</td><td style = \"text-align: left;\">Student 23</td><td style = \"text-align: right;\">96</td><td style = \"text-align: right;\">82</td><td style = \"text-align: left;\">CS</td><td style = \"text-align: right;\">3</td><td style = \"text-align: right;\">178</td></tr></tbody></table></div>"
      ],
      "text/latex": [
       "\\begin{tabular}{r|ccccccc}\n",
       "\t& id & name & math\\_score & science\\_score & program & grade\\_level & total\\\\\n",
       "\t\\hline\n",
       "\t& Int64 & String & Int64 & Int64 & String & Int64 & Int64\\\\\n",
       "\t\\hline\n",
       "\t1 & 3 & Student 3 & 96 & 82 & Physics & 3 & 178 \\\\\n",
       "\t2 & 8 & Student 8 & 98 & 98 & CS & 2 & 196 \\\\\n",
       "\t3 & 12 & Student 12 & 94 & 67 & CS & 4 & 161 \\\\\n",
       "\t4 & 22 & Student 22 & 100 & 83 & Physics & 3 & 183 \\\\\n",
       "\t5 & 23 & Student 23 & 96 & 82 & CS & 3 & 178 \\\\\n",
       "\\end{tabular}\n"
      ],
      "text/plain": [
       "\u001b[1m5×7 DataFrame\u001b[0m\n",
       "\u001b[1m Row \u001b[0m│\u001b[1m id    \u001b[0m\u001b[1m name       \u001b[0m\u001b[1m math_score \u001b[0m\u001b[1m science_score \u001b[0m\u001b[1m program \u001b[0m\u001b[1m grade_level \u001b[0m\u001b[1m tot\u001b[0m ⋯\n",
       "     │\u001b[90m Int64 \u001b[0m\u001b[90m String     \u001b[0m\u001b[90m Int64      \u001b[0m\u001b[90m Int64         \u001b[0m\u001b[90m String  \u001b[0m\u001b[90m Int64       \u001b[0m\u001b[90m Int\u001b[0m ⋯\n",
       "─────┼──────────────────────────────────────────────────────────────────────────\n",
       "   1 │     3  Student 3           96             82  Physics            3    1 ⋯\n",
       "   2 │     8  Student 8           98             98  CS                 2    1\n",
       "   3 │    12  Student 12          94             67  CS                 4    1\n",
       "   4 │    22  Student 22         100             83  Physics            3    1\n",
       "   5 │    23  Student 23          96             82  CS                 3    1 ⋯\n",
       "\u001b[36m                                                                1 column omitted\u001b[0m"
      ]
     },
     "execution_count": 5,
     "metadata": {},
     "output_type": "execute_result"
    }
   ],
   "source": [
    "# Filter students with high math scores\n",
    "high_performers = @filter(students, math_score >= 90)\n",
    "println(\"Students with math score >= 90: \", nrow(high_performers))\n",
    "first(high_performers, 5)"
   ]
  },
  {
   "cell_type": "code",
   "execution_count": 6,
   "id": "f9232539",
   "metadata": {},
   "outputs": [
    {
     "name": "stdout",
     "output_type": "stream",
     "text": [
      "CS seniors: 9"
     ]
    },
    {
     "name": "stdout",
     "output_type": "stream",
     "text": [
      "\n"
     ]
    },
    {
     "data": {
      "text/html": [
       "<div><div style = \"float: left;\"><span>5×7 DataFrame</span></div><div style = \"clear: both;\"></div></div><div class = \"data-frame\" style = \"overflow-x: scroll;\"><table class = \"data-frame\" style = \"margin-bottom: 6px;\"><thead><tr class = \"header\"><th class = \"rowNumber\" style = \"font-weight: bold; text-align: right;\">Row</th><th style = \"text-align: left;\">id</th><th style = \"text-align: left;\">name</th><th style = \"text-align: left;\">math_score</th><th style = \"text-align: left;\">science_score</th><th style = \"text-align: left;\">program</th><th style = \"text-align: left;\">grade_level</th><th style = \"text-align: left;\">total</th></tr><tr class = \"subheader headerLastRow\"><th class = \"rowNumber\" style = \"font-weight: bold; text-align: right;\"></th><th title = \"Int64\" style = \"text-align: left;\">Int64</th><th title = \"String\" style = \"text-align: left;\">String</th><th title = \"Int64\" style = \"text-align: left;\">Int64</th><th title = \"Int64\" style = \"text-align: left;\">Int64</th><th title = \"String\" style = \"text-align: left;\">String</th><th title = \"Int64\" style = \"text-align: left;\">Int64</th><th title = \"Int64\" style = \"text-align: left;\">Int64</th></tr></thead><tbody><tr><td class = \"rowNumber\" style = \"font-weight: bold; text-align: right;\">1</td><td style = \"text-align: right;\">7</td><td style = \"text-align: left;\">Student 7</td><td style = \"text-align: right;\">61</td><td style = \"text-align: right;\">67</td><td style = \"text-align: left;\">CS</td><td style = \"text-align: right;\">4</td><td style = \"text-align: right;\">128</td></tr><tr><td class = \"rowNumber\" style = \"font-weight: bold; text-align: right;\">2</td><td style = \"text-align: right;\">12</td><td style = \"text-align: left;\">Student 12</td><td style = \"text-align: right;\">94</td><td style = \"text-align: right;\">67</td><td style = \"text-align: left;\">CS</td><td style = \"text-align: right;\">4</td><td style = \"text-align: right;\">161</td></tr><tr><td class = \"rowNumber\" style = \"font-weight: bold; text-align: right;\">3</td><td style = \"text-align: right;\">27</td><td style = \"text-align: left;\">Student 27</td><td style = \"text-align: right;\">63</td><td style = \"text-align: right;\">83</td><td style = \"text-align: left;\">CS</td><td style = \"text-align: right;\">4</td><td style = \"text-align: right;\">146</td></tr><tr><td class = \"rowNumber\" style = \"font-weight: bold; text-align: right;\">4</td><td style = \"text-align: right;\">48</td><td style = \"text-align: left;\">Student 48</td><td style = \"text-align: right;\">90</td><td style = \"text-align: right;\">100</td><td style = \"text-align: left;\">CS</td><td style = \"text-align: right;\">4</td><td style = \"text-align: right;\">190</td></tr><tr><td class = \"rowNumber\" style = \"font-weight: bold; text-align: right;\">5</td><td style = \"text-align: right;\">52</td><td style = \"text-align: left;\">Student 52</td><td style = \"text-align: right;\">69</td><td style = \"text-align: right;\">85</td><td style = \"text-align: left;\">CS</td><td style = \"text-align: right;\">4</td><td style = \"text-align: right;\">154</td></tr></tbody></table></div>"
      ],
      "text/latex": [
       "\\begin{tabular}{r|ccccccc}\n",
       "\t& id & name & math\\_score & science\\_score & program & grade\\_level & total\\\\\n",
       "\t\\hline\n",
       "\t& Int64 & String & Int64 & Int64 & String & Int64 & Int64\\\\\n",
       "\t\\hline\n",
       "\t1 & 7 & Student 7 & 61 & 67 & CS & 4 & 128 \\\\\n",
       "\t2 & 12 & Student 12 & 94 & 67 & CS & 4 & 161 \\\\\n",
       "\t3 & 27 & Student 27 & 63 & 83 & CS & 4 & 146 \\\\\n",
       "\t4 & 48 & Student 48 & 90 & 100 & CS & 4 & 190 \\\\\n",
       "\t5 & 52 & Student 52 & 69 & 85 & CS & 4 & 154 \\\\\n",
       "\\end{tabular}\n"
      ],
      "text/plain": [
       "\u001b[1m5×7 DataFrame\u001b[0m\n",
       "\u001b[1m Row \u001b[0m│\u001b[1m id    \u001b[0m\u001b[1m name       \u001b[0m\u001b[1m math_score \u001b[0m\u001b[1m science_score \u001b[0m\u001b[1m program \u001b[0m\u001b[1m grade_level \u001b[0m\u001b[1m tot\u001b[0m ⋯\n",
       "     │\u001b[90m Int64 \u001b[0m\u001b[90m String     \u001b[0m\u001b[90m Int64      \u001b[0m\u001b[90m Int64         \u001b[0m\u001b[90m String  \u001b[0m\u001b[90m Int64       \u001b[0m\u001b[90m Int\u001b[0m ⋯\n",
       "─────┼──────────────────────────────────────────────────────────────────────────\n",
       "   1 │     7  Student 7           61             67  CS                 4    1 ⋯\n",
       "   2 │    12  Student 12          94             67  CS                 4    1\n",
       "   3 │    27  Student 27          63             83  CS                 4    1\n",
       "   4 │    48  Student 48          90            100  CS                 4    1\n",
       "   5 │    52  Student 52          69             85  CS                 4    1 ⋯\n",
       "\u001b[36m                                                                1 column omitted\u001b[0m"
      ]
     },
     "execution_count": 6,
     "metadata": {},
     "output_type": "execute_result"
    }
   ],
   "source": [
    "# Filter by multiple conditions\n",
    "cs_seniors = @filter(students, program == \"CS\" && grade_level == 4)\n",
    "println(\"CS seniors: \", nrow(cs_seniors))\n",
    "first(cs_seniors, 5)"
   ]
  },
  {
   "cell_type": "code",
   "execution_count": 7,
   "id": "5e6afa17",
   "metadata": {},
   "outputs": [
    {
     "data": {
      "text/html": [
       "<div><div style = \"float: left;\"><span>5×4 DataFrame</span></div><div style = \"clear: both;\"></div></div><div class = \"data-frame\" style = \"overflow-x: scroll;\"><table class = \"data-frame\" style = \"margin-bottom: 6px;\"><thead><tr class = \"header\"><th class = \"rowNumber\" style = \"font-weight: bold; text-align: right;\">Row</th><th style = \"text-align: left;\">id</th><th style = \"text-align: left;\">math_score</th><th style = \"text-align: left;\">science_score</th><th style = \"text-align: left;\">total</th></tr><tr class = \"subheader headerLastRow\"><th class = \"rowNumber\" style = \"font-weight: bold; text-align: right;\"></th><th title = \"Int64\" style = \"text-align: left;\">Int64</th><th title = \"Int64\" style = \"text-align: left;\">Int64</th><th title = \"Int64\" style = \"text-align: left;\">Int64</th><th title = \"Int64\" style = \"text-align: left;\">Int64</th></tr></thead><tbody><tr><td class = \"rowNumber\" style = \"font-weight: bold; text-align: right;\">1</td><td style = \"text-align: right;\">1</td><td style = \"text-align: right;\">81</td><td style = \"text-align: right;\">81</td><td style = \"text-align: right;\">162</td></tr><tr><td class = \"rowNumber\" style = \"font-weight: bold; text-align: right;\">2</td><td style = \"text-align: right;\">2</td><td style = \"text-align: right;\">84</td><td style = \"text-align: right;\">57</td><td style = \"text-align: right;\">141</td></tr><tr><td class = \"rowNumber\" style = \"font-weight: bold; text-align: right;\">3</td><td style = \"text-align: right;\">3</td><td style = \"text-align: right;\">96</td><td style = \"text-align: right;\">82</td><td style = \"text-align: right;\">178</td></tr><tr><td class = \"rowNumber\" style = \"font-weight: bold; text-align: right;\">4</td><td style = \"text-align: right;\">4</td><td style = \"text-align: right;\">67</td><td style = \"text-align: right;\">64</td><td style = \"text-align: right;\">131</td></tr><tr><td class = \"rowNumber\" style = \"font-weight: bold; text-align: right;\">5</td><td style = \"text-align: right;\">5</td><td style = \"text-align: right;\">81</td><td style = \"text-align: right;\">83</td><td style = \"text-align: right;\">164</td></tr></tbody></table></div>"
      ],
      "text/latex": [
       "\\begin{tabular}{r|cccc}\n",
       "\t& id & math\\_score & science\\_score & total\\\\\n",
       "\t\\hline\n",
       "\t& Int64 & Int64 & Int64 & Int64\\\\\n",
       "\t\\hline\n",
       "\t1 & 1 & 81 & 81 & 162 \\\\\n",
       "\t2 & 2 & 84 & 57 & 141 \\\\\n",
       "\t3 & 3 & 96 & 82 & 178 \\\\\n",
       "\t4 & 4 & 67 & 64 & 131 \\\\\n",
       "\t5 & 5 & 81 & 83 & 164 \\\\\n",
       "\\end{tabular}\n"
      ],
      "text/plain": [
       "\u001b[1m5×4 DataFrame\u001b[0m\n",
       "\u001b[1m Row \u001b[0m│\u001b[1m id    \u001b[0m\u001b[1m math_score \u001b[0m\u001b[1m science_score \u001b[0m\u001b[1m total \u001b[0m\n",
       "     │\u001b[90m Int64 \u001b[0m\u001b[90m Int64      \u001b[0m\u001b[90m Int64         \u001b[0m\u001b[90m Int64 \u001b[0m\n",
       "─────┼─────────────────────────────────────────\n",
       "   1 │     1          81             81    162\n",
       "   2 │     2          84             57    141\n",
       "   3 │     3          96             82    178\n",
       "   4 │     4          67             64    131\n",
       "   5 │     5          81             83    164"
      ]
     },
     "execution_count": 7,
     "metadata": {},
     "output_type": "execute_result"
    }
   ],
   "source": [
    "# Select specific columns\n",
    "scores_only = @select(students, id, math_score, science_score, total)\n",
    "first(scores_only, 5)"
   ]
  },
  {
   "cell_type": "code",
   "execution_count": 8,
   "id": "6be21097",
   "metadata": {},
   "outputs": [
    {
     "data": {
      "text/html": [
       "<div><div style = \"float: left;\"><span>5×3 DataFrame</span></div><div style = \"clear: both;\"></div></div><div class = \"data-frame\" style = \"overflow-x: scroll;\"><table class = \"data-frame\" style = \"margin-bottom: 6px;\"><thead><tr class = \"header\"><th class = \"rowNumber\" style = \"font-weight: bold; text-align: right;\">Row</th><th style = \"text-align: left;\">name</th><th style = \"text-align: left;\">math_score</th><th style = \"text-align: left;\">science_score</th></tr><tr class = \"subheader headerLastRow\"><th class = \"rowNumber\" style = \"font-weight: bold; text-align: right;\"></th><th title = \"String\" style = \"text-align: left;\">String</th><th title = \"Int64\" style = \"text-align: left;\">Int64</th><th title = \"Int64\" style = \"text-align: left;\">Int64</th></tr></thead><tbody><tr><td class = \"rowNumber\" style = \"font-weight: bold; text-align: right;\">1</td><td style = \"text-align: left;\">Student 1</td><td style = \"text-align: right;\">81</td><td style = \"text-align: right;\">81</td></tr><tr><td class = \"rowNumber\" style = \"font-weight: bold; text-align: right;\">2</td><td style = \"text-align: left;\">Student 2</td><td style = \"text-align: right;\">84</td><td style = \"text-align: right;\">57</td></tr><tr><td class = \"rowNumber\" style = \"font-weight: bold; text-align: right;\">3</td><td style = \"text-align: left;\">Student 3</td><td style = \"text-align: right;\">96</td><td style = \"text-align: right;\">82</td></tr><tr><td class = \"rowNumber\" style = \"font-weight: bold; text-align: right;\">4</td><td style = \"text-align: left;\">Student 4</td><td style = \"text-align: right;\">67</td><td style = \"text-align: right;\">64</td></tr><tr><td class = \"rowNumber\" style = \"font-weight: bold; text-align: right;\">5</td><td style = \"text-align: left;\">Student 5</td><td style = \"text-align: right;\">81</td><td style = \"text-align: right;\">83</td></tr></tbody></table></div>"
      ],
      "text/latex": [
       "\\begin{tabular}{r|ccc}\n",
       "\t& name & math\\_score & science\\_score\\\\\n",
       "\t\\hline\n",
       "\t& String & Int64 & Int64\\\\\n",
       "\t\\hline\n",
       "\t1 & Student 1 & 81 & 81 \\\\\n",
       "\t2 & Student 2 & 84 & 57 \\\\\n",
       "\t3 & Student 3 & 96 & 82 \\\\\n",
       "\t4 & Student 4 & 67 & 64 \\\\\n",
       "\t5 & Student 5 & 81 & 83 \\\\\n",
       "\\end{tabular}\n"
      ],
      "text/plain": [
       "\u001b[1m5×3 DataFrame\u001b[0m\n",
       "\u001b[1m Row \u001b[0m│\u001b[1m name      \u001b[0m\u001b[1m math_score \u001b[0m\u001b[1m science_score \u001b[0m\n",
       "     │\u001b[90m String    \u001b[0m\u001b[90m Int64      \u001b[0m\u001b[90m Int64         \u001b[0m\n",
       "─────┼──────────────────────────────────────\n",
       "   1 │ Student 1          81             81\n",
       "   2 │ Student 2          84             57\n",
       "   3 │ Student 3          96             82\n",
       "   4 │ Student 4          67             64\n",
       "   5 │ Student 5          81             83"
      ]
     },
     "execution_count": 8,
     "metadata": {},
     "output_type": "execute_result"
    }
   ],
   "source": [
    "# Select columns using patterns\n",
    "name_and_scores = @select(students, name, ends_with(\"score\"))\n",
    "first(name_and_scores, 5)"
   ]
  },
  {
   "cell_type": "code",
   "execution_count": 9,
   "id": "5bd0e08f",
   "metadata": {},
   "outputs": [
    {
     "data": {
      "text/html": [
       "<div><div style = \"float: left;\"><span>5×9 DataFrame</span></div><div style = \"clear: both;\"></div></div><div class = \"data-frame\" style = \"overflow-x: scroll;\"><table class = \"data-frame\" style = \"margin-bottom: 6px;\"><thead><tr class = \"header\"><th class = \"rowNumber\" style = \"font-weight: bold; text-align: right;\">Row</th><th style = \"text-align: left;\">id</th><th style = \"text-align: left;\">name</th><th style = \"text-align: left;\">math_score</th><th style = \"text-align: left;\">science_score</th><th style = \"text-align: left;\">program</th><th style = \"text-align: left;\">grade_level</th><th style = \"text-align: left;\">total</th><th style = \"text-align: left;\">average_score</th><th style = \"text-align: left;\">passed</th></tr><tr class = \"subheader headerLastRow\"><th class = \"rowNumber\" style = \"font-weight: bold; text-align: right;\"></th><th title = \"Int64\" style = \"text-align: left;\">Int64</th><th title = \"String\" style = \"text-align: left;\">String</th><th title = \"Int64\" style = \"text-align: left;\">Int64</th><th title = \"Int64\" style = \"text-align: left;\">Int64</th><th title = \"String\" style = \"text-align: left;\">String</th><th title = \"Int64\" style = \"text-align: left;\">Int64</th><th title = \"Int64\" style = \"text-align: left;\">Int64</th><th title = \"Float64\" style = \"text-align: left;\">Float64</th><th title = \"Bool\" style = \"text-align: left;\">Bool</th></tr></thead><tbody><tr><td class = \"rowNumber\" style = \"font-weight: bold; text-align: right;\">1</td><td style = \"text-align: right;\">1</td><td style = \"text-align: left;\">Student 1</td><td style = \"text-align: right;\">81</td><td style = \"text-align: right;\">81</td><td style = \"text-align: left;\">Physics</td><td style = \"text-align: right;\">1</td><td style = \"text-align: right;\">162</td><td style = \"text-align: right;\">81.0</td><td style = \"text-align: right;\">true</td></tr><tr><td class = \"rowNumber\" style = \"font-weight: bold; text-align: right;\">2</td><td style = \"text-align: right;\">2</td><td style = \"text-align: left;\">Student 2</td><td style = \"text-align: right;\">84</td><td style = \"text-align: right;\">57</td><td style = \"text-align: left;\">Physics</td><td style = \"text-align: right;\">4</td><td style = \"text-align: right;\">141</td><td style = \"text-align: right;\">70.5</td><td style = \"text-align: right;\">true</td></tr><tr><td class = \"rowNumber\" style = \"font-weight: bold; text-align: right;\">3</td><td style = \"text-align: right;\">3</td><td style = \"text-align: left;\">Student 3</td><td style = \"text-align: right;\">96</td><td style = \"text-align: right;\">82</td><td style = \"text-align: left;\">Physics</td><td style = \"text-align: right;\">3</td><td style = \"text-align: right;\">178</td><td style = \"text-align: right;\">89.0</td><td style = \"text-align: right;\">true</td></tr><tr><td class = \"rowNumber\" style = \"font-weight: bold; text-align: right;\">4</td><td style = \"text-align: right;\">4</td><td style = \"text-align: left;\">Student 4</td><td style = \"text-align: right;\">67</td><td style = \"text-align: right;\">64</td><td style = \"text-align: left;\">Math</td><td style = \"text-align: right;\">4</td><td style = \"text-align: right;\">131</td><td style = \"text-align: right;\">65.5</td><td style = \"text-align: right;\">false</td></tr><tr><td class = \"rowNumber\" style = \"font-weight: bold; text-align: right;\">5</td><td style = \"text-align: right;\">5</td><td style = \"text-align: left;\">Student 5</td><td style = \"text-align: right;\">81</td><td style = \"text-align: right;\">83</td><td style = \"text-align: left;\">Physics</td><td style = \"text-align: right;\">3</td><td style = \"text-align: right;\">164</td><td style = \"text-align: right;\">82.0</td><td style = \"text-align: right;\">true</td></tr></tbody></table></div>"
      ],
      "text/latex": [
       "\\begin{tabular}{r|ccccccccc}\n",
       "\t& id & name & math\\_score & science\\_score & program & grade\\_level & total & average\\_score & \\\\\n",
       "\t\\hline\n",
       "\t& Int64 & String & Int64 & Int64 & String & Int64 & Int64 & Float64 & \\\\\n",
       "\t\\hline\n",
       "\t1 & 1 & Student 1 & 81 & 81 & Physics & 1 & 162 & 81.0 & $\\dots$ \\\\\n",
       "\t2 & 2 & Student 2 & 84 & 57 & Physics & 4 & 141 & 70.5 & $\\dots$ \\\\\n",
       "\t3 & 3 & Student 3 & 96 & 82 & Physics & 3 & 178 & 89.0 & $\\dots$ \\\\\n",
       "\t4 & 4 & Student 4 & 67 & 64 & Math & 4 & 131 & 65.5 & $\\dots$ \\\\\n",
       "\t5 & 5 & Student 5 & 81 & 83 & Physics & 3 & 164 & 82.0 & $\\dots$ \\\\\n",
       "\\end{tabular}\n"
      ],
      "text/plain": [
       "\u001b[1m5×9 DataFrame\u001b[0m\n",
       "\u001b[1m Row \u001b[0m│\u001b[1m id    \u001b[0m\u001b[1m name      \u001b[0m\u001b[1m math_score \u001b[0m\u001b[1m science_score \u001b[0m\u001b[1m program \u001b[0m\u001b[1m grade_level \u001b[0m\u001b[1m tota\u001b[0m ⋯\n",
       "     │\u001b[90m Int64 \u001b[0m\u001b[90m String    \u001b[0m\u001b[90m Int64      \u001b[0m\u001b[90m Int64         \u001b[0m\u001b[90m String  \u001b[0m\u001b[90m Int64       \u001b[0m\u001b[90m Int6\u001b[0m ⋯\n",
       "─────┼──────────────────────────────────────────────────────────────────────────\n",
       "   1 │     1  Student 1          81             81  Physics            1    16 ⋯\n",
       "   2 │     2  Student 2          84             57  Physics            4    14\n",
       "   3 │     3  Student 3          96             82  Physics            3    17\n",
       "   4 │     4  Student 4          67             64  Math               4    13\n",
       "   5 │     5  Student 5          81             83  Physics            3    16 ⋯\n",
       "\u001b[36m                                                               3 columns omitted\u001b[0m"
      ]
     },
     "execution_count": 9,
     "metadata": {},
     "output_type": "execute_result"
    }
   ],
   "source": [
    "# Add calculated columns\n",
    "students_graded = @mutate(students, \n",
    "    average_score = (math_score + science_score) / 2,\n",
    "    passed = total >= 140\n",
    ")\n",
    "first(students_graded, 5)"
   ]
  },
  {
   "cell_type": "code",
   "execution_count": 10,
   "id": "02515cc8",
   "metadata": {},
   "outputs": [
    {
     "data": {
      "text/html": [
       "<div><div style = \"float: left;\"><span>1×5 DataFrame</span></div><div style = \"clear: both;\"></div></div><div class = \"data-frame\" style = \"overflow-x: scroll;\"><table class = \"data-frame\" style = \"margin-bottom: 6px;\"><thead><tr class = \"header\"><th class = \"rowNumber\" style = \"font-weight: bold; text-align: right;\">Row</th><th style = \"text-align: left;\">avg_math</th><th style = \"text-align: left;\">avg_science</th><th style = \"text-align: left;\">max_total</th><th style = \"text-align: left;\">min_total</th><th style = \"text-align: left;\">n_students</th></tr><tr class = \"subheader headerLastRow\"><th class = \"rowNumber\" style = \"font-weight: bold; text-align: right;\"></th><th title = \"Float64\" style = \"text-align: left;\">Float64</th><th title = \"Float64\" style = \"text-align: left;\">Float64</th><th title = \"Int64\" style = \"text-align: left;\">Int64</th><th title = \"Int64\" style = \"text-align: left;\">Int64</th><th title = \"Int64\" style = \"text-align: left;\">Int64</th></tr></thead><tbody><tr><td class = \"rowNumber\" style = \"font-weight: bold; text-align: right;\">1</td><td style = \"text-align: right;\">80.07</td><td style = \"text-align: right;\">76.96</td><td style = \"text-align: right;\">196</td><td style = \"text-align: right;\">119</td><td style = \"text-align: right;\">100</td></tr></tbody></table></div>"
      ],
      "text/latex": [
       "\\begin{tabular}{r|ccccc}\n",
       "\t& avg\\_math & avg\\_science & max\\_total & min\\_total & n\\_students\\\\\n",
       "\t\\hline\n",
       "\t& Float64 & Float64 & Int64 & Int64 & Int64\\\\\n",
       "\t\\hline\n",
       "\t1 & 80.07 & 76.96 & 196 & 119 & 100 \\\\\n",
       "\\end{tabular}\n"
      ],
      "text/plain": [
       "\u001b[1m1×5 DataFrame\u001b[0m\n",
       "\u001b[1m Row \u001b[0m│\u001b[1m avg_math \u001b[0m\u001b[1m avg_science \u001b[0m\u001b[1m max_total \u001b[0m\u001b[1m min_total \u001b[0m\u001b[1m n_students \u001b[0m\n",
       "     │\u001b[90m Float64  \u001b[0m\u001b[90m Float64     \u001b[0m\u001b[90m Int64     \u001b[0m\u001b[90m Int64     \u001b[0m\u001b[90m Int64      \u001b[0m\n",
       "─────┼─────────────────────────────────────────────────────────\n",
       "   1 │    80.07        76.96        196        119         100"
      ]
     },
     "execution_count": 10,
     "metadata": {},
     "output_type": "execute_result"
    }
   ],
   "source": [
    "# Basic summary statistics\n",
    "summary_stats = @summarize(students,\n",
    "    avg_math = mean(math_score),\n",
    "    avg_science = mean(science_score),\n",
    "    max_total = maximum(total),\n",
    "    min_total = minimum(total),\n",
    "    n_students = length(id)\n",
    ")\n",
    "summary_stats"
   ]
  },
  {
   "cell_type": "code",
   "execution_count": 11,
   "id": "f10b1ce1",
   "metadata": {},
   "outputs": [
    {
     "data": {
      "text/html": [
       "<div><div style = \"float: left;\"><span>3×5 DataFrame</span></div><div style = \"clear: both;\"></div></div><div class = \"data-frame\" style = \"overflow-x: scroll;\"><table class = \"data-frame\" style = \"margin-bottom: 6px;\"><thead><tr class = \"header\"><th class = \"rowNumber\" style = \"font-weight: bold; text-align: right;\">Row</th><th style = \"text-align: left;\">program</th><th style = \"text-align: left;\">count</th><th style = \"text-align: left;\">avg_math</th><th style = \"text-align: left;\">avg_science</th><th style = \"text-align: left;\">avg_total</th></tr><tr class = \"subheader headerLastRow\"><th class = \"rowNumber\" style = \"font-weight: bold; text-align: right;\"></th><th title = \"String\" style = \"text-align: left;\">String</th><th title = \"Int64\" style = \"text-align: left;\">Int64</th><th title = \"Float64\" style = \"text-align: left;\">Float64</th><th title = \"Float64\" style = \"text-align: left;\">Float64</th><th title = \"Float64\" style = \"text-align: left;\">Float64</th></tr></thead><tbody><tr><td class = \"rowNumber\" style = \"font-weight: bold; text-align: right;\">1</td><td style = \"text-align: left;\">Physics</td><td style = \"text-align: right;\">41</td><td style = \"text-align: right;\">81.7073</td><td style = \"text-align: right;\">76.5854</td><td style = \"text-align: right;\">158.293</td></tr><tr><td class = \"rowNumber\" style = \"font-weight: bold; text-align: right;\">2</td><td style = \"text-align: left;\">Math</td><td style = \"text-align: right;\">23</td><td style = \"text-align: right;\">78.913</td><td style = \"text-align: right;\">79.2174</td><td style = \"text-align: right;\">158.13</td></tr><tr><td class = \"rowNumber\" style = \"font-weight: bold; text-align: right;\">3</td><td style = \"text-align: left;\">CS</td><td style = \"text-align: right;\">36</td><td style = \"text-align: right;\">78.9444</td><td style = \"text-align: right;\">75.9444</td><td style = \"text-align: right;\">154.889</td></tr></tbody></table></div>"
      ],
      "text/latex": [
       "\\begin{tabular}{r|ccccc}\n",
       "\t& program & count & avg\\_math & avg\\_science & avg\\_total\\\\\n",
       "\t\\hline\n",
       "\t& String & Int64 & Float64 & Float64 & Float64\\\\\n",
       "\t\\hline\n",
       "\t1 & Physics & 41 & 81.7073 & 76.5854 & 158.293 \\\\\n",
       "\t2 & Math & 23 & 78.913 & 79.2174 & 158.13 \\\\\n",
       "\t3 & CS & 36 & 78.9444 & 75.9444 & 154.889 \\\\\n",
       "\\end{tabular}\n"
      ],
      "text/plain": [
       "\u001b[1m3×5 DataFrame\u001b[0m\n",
       "\u001b[1m Row \u001b[0m│\u001b[1m program \u001b[0m\u001b[1m count \u001b[0m\u001b[1m avg_math \u001b[0m\u001b[1m avg_science \u001b[0m\u001b[1m avg_total \u001b[0m\n",
       "     │\u001b[90m String  \u001b[0m\u001b[90m Int64 \u001b[0m\u001b[90m Float64  \u001b[0m\u001b[90m Float64     \u001b[0m\u001b[90m Float64   \u001b[0m\n",
       "─────┼──────────────────────────────────────────────────\n",
       "   1 │ Physics     41   81.7073      76.5854    158.293\n",
       "   2 │ Math        23   78.913       79.2174    158.13\n",
       "   3 │ CS          36   78.9444      75.9444    154.889"
      ]
     },
     "execution_count": 11,
     "metadata": {},
     "output_type": "execute_result"
    }
   ],
   "source": [
    "# Summary by program\n",
    "program_summary = @chain students begin\n",
    "    @group_by(program)\n",
    "    @summarize(\n",
    "        count = length(id),\n",
    "        avg_math = mean(math_score),\n",
    "        avg_science = mean(science_score),\n",
    "        avg_total = mean(total)\n",
    "    )\n",
    "    @arrange(desc(avg_total))\n",
    "end\n",
    "program_summary"
   ]
  },
  {
   "cell_type": "code",
   "execution_count": 12,
   "id": "e8650eca",
   "metadata": {},
   "outputs": [
    {
     "data": {
      "text/html": [
       "<div><div style = \"float: left;\"><span>4×4 DataFrame</span></div><div style = \"clear: both;\"></div></div><div class = \"data-frame\" style = \"overflow-x: scroll;\"><table class = \"data-frame\" style = \"margin-bottom: 6px;\"><thead><tr class = \"header\"><th class = \"rowNumber\" style = \"font-weight: bold; text-align: right;\">Row</th><th style = \"text-align: left;\">grade_level</th><th style = \"text-align: left;\">n_students</th><th style = \"text-align: left;\">avg_math</th><th style = \"text-align: left;\">avg_science</th></tr><tr class = \"subheader headerLastRow\"><th class = \"rowNumber\" style = \"font-weight: bold; text-align: right;\"></th><th title = \"Int64\" style = \"text-align: left;\">Int64</th><th title = \"Int64\" style = \"text-align: left;\">Int64</th><th title = \"Float64\" style = \"text-align: left;\">Float64</th><th title = \"Float64\" style = \"text-align: left;\">Float64</th></tr></thead><tbody><tr><td class = \"rowNumber\" style = \"font-weight: bold; text-align: right;\">1</td><td style = \"text-align: right;\">1</td><td style = \"text-align: right;\">23</td><td style = \"text-align: right;\">82.9</td><td style = \"text-align: right;\">84.3</td></tr><tr><td class = \"rowNumber\" style = \"font-weight: bold; text-align: right;\">2</td><td style = \"text-align: right;\">2</td><td style = \"text-align: right;\">18</td><td style = \"text-align: right;\">80.1</td><td style = \"text-align: right;\">77.6</td></tr><tr><td class = \"rowNumber\" style = \"font-weight: bold; text-align: right;\">3</td><td style = \"text-align: right;\">3</td><td style = \"text-align: right;\">33</td><td style = \"text-align: right;\">80.5</td><td style = \"text-align: right;\">73.6</td></tr><tr><td class = \"rowNumber\" style = \"font-weight: bold; text-align: right;\">4</td><td style = \"text-align: right;\">4</td><td style = \"text-align: right;\">26</td><td style = \"text-align: right;\">77.0</td><td style = \"text-align: right;\">74.2</td></tr></tbody></table></div>"
      ],
      "text/latex": [
       "\\begin{tabular}{r|cccc}\n",
       "\t& grade\\_level & n\\_students & avg\\_math & avg\\_science\\\\\n",
       "\t\\hline\n",
       "\t& Int64 & Int64 & Float64 & Float64\\\\\n",
       "\t\\hline\n",
       "\t1 & 1 & 23 & 82.9 & 84.3 \\\\\n",
       "\t2 & 2 & 18 & 80.1 & 77.6 \\\\\n",
       "\t3 & 3 & 33 & 80.5 & 73.6 \\\\\n",
       "\t4 & 4 & 26 & 77.0 & 74.2 \\\\\n",
       "\\end{tabular}\n"
      ],
      "text/plain": [
       "\u001b[1m4×4 DataFrame\u001b[0m\n",
       "\u001b[1m Row \u001b[0m│\u001b[1m grade_level \u001b[0m\u001b[1m n_students \u001b[0m\u001b[1m avg_math \u001b[0m\u001b[1m avg_science \u001b[0m\n",
       "     │\u001b[90m Int64       \u001b[0m\u001b[90m Int64      \u001b[0m\u001b[90m Float64  \u001b[0m\u001b[90m Float64     \u001b[0m\n",
       "─────┼────────────────────────────────────────────────\n",
       "   1 │           1          23      82.9         84.3\n",
       "   2 │           2          18      80.1         77.6\n",
       "   3 │           3          33      80.5         73.6\n",
       "   4 │           4          26      77.0         74.2"
      ]
     },
     "execution_count": 12,
     "metadata": {},
     "output_type": "execute_result"
    }
   ],
   "source": [
    "# Summary by grade level\n",
    "grade_level_summary = @chain students begin\n",
    "    @group_by(grade_level)\n",
    "    @summarize(\n",
    "        n_students = length(id),\n",
    "        avg_math = round(mean(math_score), digits=1),\n",
    "        avg_science = round(mean(science_score), digits=1)\n",
    "    )\n",
    "    @arrange(grade_level)\n",
    "end\n",
    "grade_level_summary"
   ]
  },
  {
   "cell_type": "code",
   "execution_count": 13,
   "id": "124d7498",
   "metadata": {},
   "outputs": [
    {
     "name": "stdout",
     "output_type": "stream",
     "text": [
      "Top 10 students by total score:\n"
     ]
    },
    {
     "data": {
      "text/html": [
       "<div><div style = \"float: left;\"><span>10×5 DataFrame</span></div><div style = \"clear: both;\"></div></div><div class = \"data-frame\" style = \"overflow-x: scroll;\"><table class = \"data-frame\" style = \"margin-bottom: 6px;\"><thead><tr class = \"header\"><th class = \"rowNumber\" style = \"font-weight: bold; text-align: right;\">Row</th><th style = \"text-align: left;\">name</th><th style = \"text-align: left;\">program</th><th style = \"text-align: left;\">math_score</th><th style = \"text-align: left;\">science_score</th><th style = \"text-align: left;\">total</th></tr><tr class = \"subheader headerLastRow\"><th class = \"rowNumber\" style = \"font-weight: bold; text-align: right;\"></th><th title = \"String\" style = \"text-align: left;\">String</th><th title = \"String\" style = \"text-align: left;\">String</th><th title = \"Int64\" style = \"text-align: left;\">Int64</th><th title = \"Int64\" style = \"text-align: left;\">Int64</th><th title = \"Int64\" style = \"text-align: left;\">Int64</th></tr></thead><tbody><tr><td class = \"rowNumber\" style = \"font-weight: bold; text-align: right;\">1</td><td style = \"text-align: left;\">Student 8</td><td style = \"text-align: left;\">CS</td><td style = \"text-align: right;\">98</td><td style = \"text-align: right;\">98</td><td style = \"text-align: right;\">196</td></tr><tr><td class = \"rowNumber\" style = \"font-weight: bold; text-align: right;\">2</td><td style = \"text-align: left;\">Student 72</td><td style = \"text-align: left;\">Physics</td><td style = \"text-align: right;\">98</td><td style = \"text-align: right;\">98</td><td style = \"text-align: right;\">196</td></tr><tr><td class = \"rowNumber\" style = \"font-weight: bold; text-align: right;\">3</td><td style = \"text-align: left;\">Student 59</td><td style = \"text-align: left;\">Physics</td><td style = \"text-align: right;\">96</td><td style = \"text-align: right;\">99</td><td style = \"text-align: right;\">195</td></tr><tr><td class = \"rowNumber\" style = \"font-weight: bold; text-align: right;\">4</td><td style = \"text-align: left;\">Student 48</td><td style = \"text-align: left;\">CS</td><td style = \"text-align: right;\">90</td><td style = \"text-align: right;\">100</td><td style = \"text-align: right;\">190</td></tr><tr><td class = \"rowNumber\" style = \"font-weight: bold; text-align: right;\">5</td><td style = \"text-align: left;\">Student 50</td><td style = \"text-align: left;\">Physics</td><td style = \"text-align: right;\">84</td><td style = \"text-align: right;\">100</td><td style = \"text-align: right;\">184</td></tr><tr><td class = \"rowNumber\" style = \"font-weight: bold; text-align: right;\">6</td><td style = \"text-align: left;\">Student 87</td><td style = \"text-align: left;\">Physics</td><td style = \"text-align: right;\">87</td><td style = \"text-align: right;\">97</td><td style = \"text-align: right;\">184</td></tr><tr><td class = \"rowNumber\" style = \"font-weight: bold; text-align: right;\">7</td><td style = \"text-align: left;\">Student 22</td><td style = \"text-align: left;\">Physics</td><td style = \"text-align: right;\">100</td><td style = \"text-align: right;\">83</td><td style = \"text-align: right;\">183</td></tr><tr><td class = \"rowNumber\" style = \"font-weight: bold; text-align: right;\">8</td><td style = \"text-align: left;\">Student 80</td><td style = \"text-align: left;\">Math</td><td style = \"text-align: right;\">89</td><td style = \"text-align: right;\">94</td><td style = \"text-align: right;\">183</td></tr><tr><td class = \"rowNumber\" style = \"font-weight: bold; text-align: right;\">9</td><td style = \"text-align: left;\">Student 64</td><td style = \"text-align: left;\">Physics</td><td style = \"text-align: right;\">83</td><td style = \"text-align: right;\">98</td><td style = \"text-align: right;\">181</td></tr><tr><td class = \"rowNumber\" style = \"font-weight: bold; text-align: right;\">10</td><td style = \"text-align: left;\">Student 86</td><td style = \"text-align: left;\">Physics</td><td style = \"text-align: right;\">85</td><td style = \"text-align: right;\">96</td><td style = \"text-align: right;\">181</td></tr></tbody></table></div>"
      ],
      "text/latex": [
       "\\begin{tabular}{r|ccccc}\n",
       "\t& name & program & math\\_score & science\\_score & total\\\\\n",
       "\t\\hline\n",
       "\t& String & String & Int64 & Int64 & Int64\\\\\n",
       "\t\\hline\n",
       "\t1 & Student 8 & CS & 98 & 98 & 196 \\\\\n",
       "\t2 & Student 72 & Physics & 98 & 98 & 196 \\\\\n",
       "\t3 & Student 59 & Physics & 96 & 99 & 195 \\\\\n",
       "\t4 & Student 48 & CS & 90 & 100 & 190 \\\\\n",
       "\t5 & Student 50 & Physics & 84 & 100 & 184 \\\\\n",
       "\t6 & Student 87 & Physics & 87 & 97 & 184 \\\\\n",
       "\t7 & Student 22 & Physics & 100 & 83 & 183 \\\\\n",
       "\t8 & Student 80 & Math & 89 & 94 & 183 \\\\\n",
       "\t9 & Student 64 & Physics & 83 & 98 & 181 \\\\\n",
       "\t10 & Student 86 & Physics & 85 & 96 & 181 \\\\\n",
       "\\end{tabular}\n"
      ],
      "text/plain": [
       "\u001b[1m10×5 DataFrame\u001b[0m\n",
       "\u001b[1m Row \u001b[0m│\u001b[1m name       \u001b[0m\u001b[1m program \u001b[0m\u001b[1m math_score \u001b[0m\u001b[1m science_score \u001b[0m\u001b[1m total \u001b[0m\n",
       "     │\u001b[90m String     \u001b[0m\u001b[90m String  \u001b[0m\u001b[90m Int64      \u001b[0m\u001b[90m Int64         \u001b[0m\u001b[90m Int64 \u001b[0m\n",
       "─────┼───────────────────────────────────────────────────────\n",
       "   1 │ Student 8   CS               98             98    196\n",
       "   2 │ Student 72  Physics          98             98    196\n",
       "   3 │ Student 59  Physics          96             99    195\n",
       "   4 │ Student 48  CS               90            100    190\n",
       "   5 │ Student 50  Physics          84            100    184\n",
       "   6 │ Student 87  Physics          87             97    184\n",
       "   7 │ Student 22  Physics         100             83    183\n",
       "   8 │ Student 80  Math             89             94    183\n",
       "   9 │ Student 64  Physics          83             98    181\n",
       "  10 │ Student 86  Physics          85             96    181"
      ]
     },
     "execution_count": 13,
     "metadata": {},
     "output_type": "execute_result"
    }
   ],
   "source": [
    "# Sort by total score (descending)\n",
    "top_students = @chain students begin\n",
    "    @arrange(desc(total))\n",
    "    @select(name, program, math_score, science_score, total)\n",
    "    @slice(1:10)\n",
    "end\n",
    "println(\"Top 10 students by total score:\")\n",
    "top_students"
   ]
  },
  {
   "cell_type": "code",
   "execution_count": 14,
   "id": "c17120e3",
   "metadata": {},
   "outputs": [
    {
     "name": "stdout",
     "output_type": "stream",
     "text": [
      "Students DataFrame columns: "
     ]
    },
    {
     "name": "stdout",
     "output_type": "stream",
     "text": [
      "[\"id\", \"name\", \"math_score\", \"science_score\", \"program\", \"grade_level\", \"total\"]\n",
      "Number of rows: 100\n"
     ]
    },
    {
     "name": "stdout",
     "output_type": "stream",
     "text": [
      "\n",
      "Performance distribution for upper-level students:\n"
     ]
    },
    {
     "data": {
      "text/html": [
       "<div><div style = \"float: left;\"><span>9×3 DataFrame</span></div><div style = \"clear: both;\"></div></div><div class = \"data-frame\" style = \"overflow-x: scroll;\"><table class = \"data-frame\" style = \"margin-bottom: 6px;\"><thead><tr class = \"header\"><th class = \"rowNumber\" style = \"font-weight: bold; text-align: right;\">Row</th><th style = \"text-align: left;\">program</th><th style = \"text-align: left;\">performance</th><th style = \"text-align: left;\">count</th></tr><tr class = \"subheader headerLastRow\"><th class = \"rowNumber\" style = \"font-weight: bold; text-align: right;\"></th><th title = \"String\" style = \"text-align: left;\">String</th><th title = \"String\" style = \"text-align: left;\">String</th><th title = \"Int64\" style = \"text-align: left;\">Int64</th></tr></thead><tbody><tr><td class = \"rowNumber\" style = \"font-weight: bold; text-align: right;\">1</td><td style = \"text-align: left;\">CS</td><td style = \"text-align: left;\">Good</td><td style = \"text-align: right;\">11</td></tr><tr><td class = \"rowNumber\" style = \"font-weight: bold; text-align: right;\">2</td><td style = \"text-align: left;\">CS</td><td style = \"text-align: left;\">Average</td><td style = \"text-align: right;\">6</td></tr><tr><td class = \"rowNumber\" style = \"font-weight: bold; text-align: right;\">3</td><td style = \"text-align: left;\">CS</td><td style = \"text-align: left;\">Excellent</td><td style = \"text-align: right;\">6</td></tr><tr><td class = \"rowNumber\" style = \"font-weight: bold; text-align: right;\">4</td><td style = \"text-align: left;\">Math</td><td style = \"text-align: left;\">Excellent</td><td style = \"text-align: right;\">5</td></tr><tr><td class = \"rowNumber\" style = \"font-weight: bold; text-align: right;\">5</td><td style = \"text-align: left;\">Math</td><td style = \"text-align: left;\">Good</td><td style = \"text-align: right;\">5</td></tr><tr><td class = \"rowNumber\" style = \"font-weight: bold; text-align: right;\">6</td><td style = \"text-align: left;\">Math</td><td style = \"text-align: left;\">Average</td><td style = \"text-align: right;\">2</td></tr><tr><td class = \"rowNumber\" style = \"font-weight: bold; text-align: right;\">7</td><td style = \"text-align: left;\">Physics</td><td style = \"text-align: left;\">Good</td><td style = \"text-align: right;\">9</td></tr><tr><td class = \"rowNumber\" style = \"font-weight: bold; text-align: right;\">8</td><td style = \"text-align: left;\">Physics</td><td style = \"text-align: left;\">Excellent</td><td style = \"text-align: right;\">9</td></tr><tr><td class = \"rowNumber\" style = \"font-weight: bold; text-align: right;\">9</td><td style = \"text-align: left;\">Physics</td><td style = \"text-align: left;\">Average</td><td style = \"text-align: right;\">6</td></tr></tbody></table></div>"
      ],
      "text/latex": [
       "\\begin{tabular}{r|ccc}\n",
       "\t& program & performance & count\\\\\n",
       "\t\\hline\n",
       "\t& String & String & Int64\\\\\n",
       "\t\\hline\n",
       "\t1 & CS & Good & 11 \\\\\n",
       "\t2 & CS & Average & 6 \\\\\n",
       "\t3 & CS & Excellent & 6 \\\\\n",
       "\t4 & Math & Excellent & 5 \\\\\n",
       "\t5 & Math & Good & 5 \\\\\n",
       "\t6 & Math & Average & 2 \\\\\n",
       "\t7 & Physics & Good & 9 \\\\\n",
       "\t8 & Physics & Excellent & 9 \\\\\n",
       "\t9 & Physics & Average & 6 \\\\\n",
       "\\end{tabular}\n"
      ],
      "text/plain": [
       "\u001b[1m9×3 DataFrame\u001b[0m\n",
       "\u001b[1m Row \u001b[0m│\u001b[1m program \u001b[0m\u001b[1m performance \u001b[0m\u001b[1m count \u001b[0m\n",
       "     │\u001b[90m String  \u001b[0m\u001b[90m String      \u001b[0m\u001b[90m Int64 \u001b[0m\n",
       "─────┼─────────────────────────────\n",
       "   1 │ CS       Good            11\n",
       "   2 │ CS       Average          6\n",
       "   3 │ CS       Excellent        6\n",
       "   4 │ Math     Excellent        5\n",
       "   5 │ Math     Good             5\n",
       "   6 │ Math     Average          2\n",
       "   7 │ Physics  Good             9\n",
       "   8 │ Physics  Excellent        9\n",
       "   9 │ Physics  Average          6"
      ]
     },
     "execution_count": 14,
     "metadata": {},
     "output_type": "execute_result"
    }
   ],
   "source": [
    "# First, let's verify the DataFrame exists and has the right columns\n",
    "if @isdefined(students)\n",
    "    println(\"Students DataFrame columns: \", names(students))\n",
    "    println(\"Number of rows: \", nrow(students))\n",
    "else\n",
    "    println(\"Students DataFrame not found!\")\n",
    "end\n",
    "\n",
    "# Use DataFrames.jl functions instead of Tidier.jl for this example\n",
    "# Filter for upper-level students (grade_level >= 3)\n",
    "upper_level = filter(row -> row.grade_level >= 3, students)\n",
    "\n",
    "# Add performance column\n",
    "upper_level.performance = map(upper_level.total) do t\n",
    "    if t >= 160\n",
    "        \"Excellent\"\n",
    "    elseif t >= 140\n",
    "        \"Good\"\n",
    "    else\n",
    "        \"Average\"\n",
    "    end\n",
    "end\n",
    "\n",
    "# Group and summarize using DataFrames.jl\n",
    "result = combine(groupby(upper_level, [:program, :performance]), nrow => :count)\n",
    "sort!(result, [:program, order(:count, rev=true)])\n",
    "\n",
    "println(\"\\nPerformance distribution for upper-level students:\")\n",
    "result"
   ]
  },
  {
   "cell_type": "code",
   "execution_count": 15,
   "id": "bddf0516",
   "metadata": {},
   "outputs": [
    {
     "name": "stdout",
     "output_type": "stream",
     "text": [
      "Data with missing values:\n",
      "\u001b[1m10×4 DataFrame\u001b[0m\n",
      "\u001b[1m Row \u001b[0m│\u001b[1m id    \u001b[0m\u001b[1m name       \u001b[0m\u001b[1m math_score \u001b[0m\u001b[1m science_score \u001b[0m\n",
      "     │\u001b[90m Int64 \u001b[0m\u001b[90m String     \u001b[0m\u001b[90m Int64?     \u001b[0m\u001b[90m Int64?        \u001b[0m\n",
      "─────┼──────────────────────────────────────────────\n",
      "   1 │     1  Student 1           85             78\n",
      "   2 │     2  Student 2  \u001b[90m    missing \u001b[0m            85\n",
      "   3 │     3  Student 3           92 \u001b[90m       missing \u001b[0m\n",
      "   4 │     4  Student 4           78             82\n",
      "   5 │     5  Student 5  \u001b[90m    missing \u001b[0m            88\n",
      "   6 │     6  Student 6           88 \u001b[90m       missing \u001b[0m\n",
      "   7 │     7  Student 7           95             92\n",
      "   8 │     8  Student 8  \u001b[90m    missing \u001b[0m            85\n",
      "   9 │     9  Student 9           82 \u001b[90m       missing \u001b[0m\n",
      "  10 │    10  Student 10          90             87\n"
     ]
    },
    {
     "name": "stdout",
     "output_type": "stream",
     "text": [
      "\n",
      "Missing value counts:\n",
      "\u001b[1m1×2 DataFrame\u001b[0m\n",
      "\u001b[1m Row \u001b[0m│\u001b[1m math_missing \u001b[0m\u001b[1m science_missing \u001b[0m\n",
      "     │\u001b[90m Int64        \u001b[0m\u001b[90m Int64           \u001b[0m\n",
      "─────┼───────────────────────────────\n",
      "   1 │            3                3\n",
      "\n",
      "Means (excluding missing): Math = 87.14285714285714, Science = 85.28571428571429\n"
     ]
    }
   ],
   "source": [
    "# Create a DataFrame with some missing values\n",
    "students_missing = DataFrame(\n",
    "    id = 1:10,\n",
    "    name = [\"Student $i\" for i in 1:10],\n",
    "    math_score = [85, missing, 92, 78, missing, 88, 95, missing, 82, 90],\n",
    "    science_score = [78, 85, missing, 82, 88, missing, 92, 85, missing, 87]\n",
    ")\n",
    "\n",
    "println(\"Data with missing values:\")\n",
    "println(students_missing)\n",
    "\n",
    "# Count missing values\n",
    "missing_counts = DataFrame(\n",
    "    math_missing = sum(ismissing.(students_missing.math_score)),\n",
    "    science_missing = sum(ismissing.(students_missing.science_score))\n",
    ")\n",
    "println(\"\\nMissing value counts:\")\n",
    "println(missing_counts)\n",
    "\n",
    "# Calculate mean, skipping missing values\n",
    "math_mean = mean(skipmissing(students_missing.math_score))\n",
    "science_mean = mean(skipmissing(students_missing.science_score))\n",
    "println(\"\\nMeans (excluding missing): Math = $math_mean, Science = $science_mean\")"
   ]
  },
  {
   "cell_type": "code",
   "execution_count": 16,
   "id": "4ab23a48",
   "metadata": {},
   "outputs": [
    {
     "data": {
      "text/html": [
       "<div><div style = \"float: left;\"><span>5×8 DataFrame</span></div><div style = \"clear: both;\"></div></div><div class = \"data-frame\" style = \"overflow-x: scroll;\"><table class = \"data-frame\" style = \"margin-bottom: 6px;\"><thead><tr class = \"header\"><th class = \"rowNumber\" style = \"font-weight: bold; text-align: right;\">Row</th><th style = \"text-align: left;\">id</th><th style = \"text-align: left;\">name</th><th style = \"text-align: left;\">math_score</th><th style = \"text-align: left;\">science_score</th><th style = \"text-align: left;\">program</th><th style = \"text-align: left;\">grade_level</th><th style = \"text-align: left;\">total</th><th style = \"text-align: left;\">final_grade</th></tr><tr class = \"subheader headerLastRow\"><th class = \"rowNumber\" style = \"font-weight: bold; text-align: right;\"></th><th title = \"Int64\" style = \"text-align: left;\">Int64</th><th title = \"String\" style = \"text-align: left;\">String</th><th title = \"Int64\" style = \"text-align: left;\">Int64</th><th title = \"Int64\" style = \"text-align: left;\">Int64</th><th title = \"String\" style = \"text-align: left;\">String</th><th title = \"Int64\" style = \"text-align: left;\">Int64</th><th title = \"Int64\" style = \"text-align: left;\">Int64</th><th title = \"Union{Missing, String}\" style = \"text-align: left;\">String?</th></tr></thead><tbody><tr><td class = \"rowNumber\" style = \"font-weight: bold; text-align: right;\">1</td><td style = \"text-align: right;\">1</td><td style = \"text-align: left;\">Student 1</td><td style = \"text-align: right;\">81</td><td style = \"text-align: right;\">81</td><td style = \"text-align: left;\">Physics</td><td style = \"text-align: right;\">1</td><td style = \"text-align: right;\">162</td><td style = \"text-align: left;\">A</td></tr><tr><td class = \"rowNumber\" style = \"font-weight: bold; text-align: right;\">2</td><td style = \"text-align: right;\">2</td><td style = \"text-align: left;\">Student 2</td><td style = \"text-align: right;\">84</td><td style = \"text-align: right;\">57</td><td style = \"text-align: left;\">Physics</td><td style = \"text-align: right;\">4</td><td style = \"text-align: right;\">141</td><td style = \"text-align: left;\">B</td></tr><tr><td class = \"rowNumber\" style = \"font-weight: bold; text-align: right;\">3</td><td style = \"text-align: right;\">3</td><td style = \"text-align: left;\">Student 3</td><td style = \"text-align: right;\">96</td><td style = \"text-align: right;\">82</td><td style = \"text-align: left;\">Physics</td><td style = \"text-align: right;\">3</td><td style = \"text-align: right;\">178</td><td style = \"text-align: left;\">A</td></tr><tr><td class = \"rowNumber\" style = \"font-weight: bold; text-align: right;\">4</td><td style = \"text-align: right;\">4</td><td style = \"text-align: left;\">Student 4</td><td style = \"text-align: right;\">67</td><td style = \"text-align: right;\">64</td><td style = \"text-align: left;\">Math</td><td style = \"text-align: right;\">4</td><td style = \"text-align: right;\">131</td><td style = \"text-align: left;\">C</td></tr><tr><td class = \"rowNumber\" style = \"font-weight: bold; text-align: right;\">5</td><td style = \"text-align: right;\">5</td><td style = \"text-align: left;\">Student 5</td><td style = \"text-align: right;\">81</td><td style = \"text-align: right;\">83</td><td style = \"text-align: left;\">Physics</td><td style = \"text-align: right;\">3</td><td style = \"text-align: right;\">164</td><td style = \"text-align: left;\">B</td></tr></tbody></table></div>"
      ],
      "text/latex": [
       "\\begin{tabular}{r|cccccccc}\n",
       "\t& id & name & math\\_score & science\\_score & program & grade\\_level & total & final\\_grade\\\\\n",
       "\t\\hline\n",
       "\t& Int64 & String & Int64 & Int64 & String & Int64 & Int64 & String?\\\\\n",
       "\t\\hline\n",
       "\t1 & 1 & Student 1 & 81 & 81 & Physics & 1 & 162 & A \\\\\n",
       "\t2 & 2 & Student 2 & 84 & 57 & Physics & 4 & 141 & B \\\\\n",
       "\t3 & 3 & Student 3 & 96 & 82 & Physics & 3 & 178 & A \\\\\n",
       "\t4 & 4 & Student 4 & 67 & 64 & Math & 4 & 131 & C \\\\\n",
       "\t5 & 5 & Student 5 & 81 & 83 & Physics & 3 & 164 & B \\\\\n",
       "\\end{tabular}\n"
      ],
      "text/plain": [
       "\u001b[1m5×8 DataFrame\u001b[0m\n",
       "\u001b[1m Row \u001b[0m│\u001b[1m id    \u001b[0m\u001b[1m name      \u001b[0m\u001b[1m math_score \u001b[0m\u001b[1m science_score \u001b[0m\u001b[1m program \u001b[0m\u001b[1m grade_level \u001b[0m\u001b[1m tota\u001b[0m ⋯\n",
       "     │\u001b[90m Int64 \u001b[0m\u001b[90m String    \u001b[0m\u001b[90m Int64      \u001b[0m\u001b[90m Int64         \u001b[0m\u001b[90m String  \u001b[0m\u001b[90m Int64       \u001b[0m\u001b[90m Int6\u001b[0m ⋯\n",
       "─────┼──────────────────────────────────────────────────────────────────────────\n",
       "   1 │     1  Student 1          81             81  Physics            1    16 ⋯\n",
       "   2 │     2  Student 2          84             57  Physics            4    14\n",
       "   3 │     3  Student 3          96             82  Physics            3    17\n",
       "   4 │     4  Student 4          67             64  Math               4    13\n",
       "   5 │     5  Student 5          81             83  Physics            3    16 ⋯\n",
       "\u001b[36m                                                               2 columns omitted\u001b[0m"
      ]
     },
     "execution_count": 16,
     "metadata": {},
     "output_type": "execute_result"
    }
   ],
   "source": [
    "# Create a simple grades DataFrame\n",
    "grades = DataFrame(\n",
    "    id = [1, 2, 3, 4, 5],\n",
    "    final_grade = [\"A\", \"B\", \"A\", \"C\", \"B\"]\n",
    ")\n",
    "\n",
    "# Join with students data\n",
    "students_with_grades = @left_join(students[1:5, :], grades, id)\n",
    "students_with_grades"
   ]
  },
  {
   "cell_type": "code",
   "execution_count": 17,
   "id": "ab44dbf2",
   "metadata": {},
   "outputs": [
    {
     "name": "stdout",
     "output_type": "stream",
     "text": [
      "Wide format:\n",
      "\n",
      "Long format:\n"
     ]
    },
    {
     "data": {
      "text/html": [
       "<div><div style = \"float: left;\"><span>10×4 DataFrame</span></div><div style = \"clear: both;\"></div></div><div class = \"data-frame\" style = \"overflow-x: scroll;\"><table class = \"data-frame\" style = \"margin-bottom: 6px;\"><thead><tr class = \"header\"><th class = \"rowNumber\" style = \"font-weight: bold; text-align: right;\">Row</th><th style = \"text-align: left;\">id</th><th style = \"text-align: left;\">name</th><th style = \"text-align: left;\">subject</th><th style = \"text-align: left;\">score</th></tr><tr class = \"subheader headerLastRow\"><th class = \"rowNumber\" style = \"font-weight: bold; text-align: right;\"></th><th title = \"Int64\" style = \"text-align: left;\">Int64</th><th title = \"String\" style = \"text-align: left;\">String</th><th title = \"String\" style = \"text-align: left;\">String</th><th title = \"Int64\" style = \"text-align: left;\">Int64</th></tr></thead><tbody><tr><td class = \"rowNumber\" style = \"font-weight: bold; text-align: right;\">1</td><td style = \"text-align: right;\">1</td><td style = \"text-align: left;\">Student 1</td><td style = \"text-align: left;\">math_score</td><td style = \"text-align: right;\">81</td></tr><tr><td class = \"rowNumber\" style = \"font-weight: bold; text-align: right;\">2</td><td style = \"text-align: right;\">2</td><td style = \"text-align: left;\">Student 2</td><td style = \"text-align: left;\">math_score</td><td style = \"text-align: right;\">84</td></tr><tr><td class = \"rowNumber\" style = \"font-weight: bold; text-align: right;\">3</td><td style = \"text-align: right;\">3</td><td style = \"text-align: left;\">Student 3</td><td style = \"text-align: left;\">math_score</td><td style = \"text-align: right;\">96</td></tr><tr><td class = \"rowNumber\" style = \"font-weight: bold; text-align: right;\">4</td><td style = \"text-align: right;\">4</td><td style = \"text-align: left;\">Student 4</td><td style = \"text-align: left;\">math_score</td><td style = \"text-align: right;\">67</td></tr><tr><td class = \"rowNumber\" style = \"font-weight: bold; text-align: right;\">5</td><td style = \"text-align: right;\">5</td><td style = \"text-align: left;\">Student 5</td><td style = \"text-align: left;\">math_score</td><td style = \"text-align: right;\">81</td></tr><tr><td class = \"rowNumber\" style = \"font-weight: bold; text-align: right;\">6</td><td style = \"text-align: right;\">1</td><td style = \"text-align: left;\">Student 1</td><td style = \"text-align: left;\">science_score</td><td style = \"text-align: right;\">81</td></tr><tr><td class = \"rowNumber\" style = \"font-weight: bold; text-align: right;\">7</td><td style = \"text-align: right;\">2</td><td style = \"text-align: left;\">Student 2</td><td style = \"text-align: left;\">science_score</td><td style = \"text-align: right;\">57</td></tr><tr><td class = \"rowNumber\" style = \"font-weight: bold; text-align: right;\">8</td><td style = \"text-align: right;\">3</td><td style = \"text-align: left;\">Student 3</td><td style = \"text-align: left;\">science_score</td><td style = \"text-align: right;\">82</td></tr><tr><td class = \"rowNumber\" style = \"font-weight: bold; text-align: right;\">9</td><td style = \"text-align: right;\">4</td><td style = \"text-align: left;\">Student 4</td><td style = \"text-align: left;\">science_score</td><td style = \"text-align: right;\">64</td></tr><tr><td class = \"rowNumber\" style = \"font-weight: bold; text-align: right;\">10</td><td style = \"text-align: right;\">5</td><td style = \"text-align: left;\">Student 5</td><td style = \"text-align: left;\">science_score</td><td style = \"text-align: right;\">83</td></tr></tbody></table></div>"
      ],
      "text/latex": [
       "\\begin{tabular}{r|cccc}\n",
       "\t& id & name & subject & score\\\\\n",
       "\t\\hline\n",
       "\t& Int64 & String & String & Int64\\\\\n",
       "\t\\hline\n",
       "\t1 & 1 & Student 1 & math\\_score & 81 \\\\\n",
       "\t2 & 2 & Student 2 & math\\_score & 84 \\\\\n",
       "\t3 & 3 & Student 3 & math\\_score & 96 \\\\\n",
       "\t4 & 4 & Student 4 & math\\_score & 67 \\\\\n",
       "\t5 & 5 & Student 5 & math\\_score & 81 \\\\\n",
       "\t6 & 1 & Student 1 & science\\_score & 81 \\\\\n",
       "\t7 & 2 & Student 2 & science\\_score & 57 \\\\\n",
       "\t8 & 3 & Student 3 & science\\_score & 82 \\\\\n",
       "\t9 & 4 & Student 4 & science\\_score & 64 \\\\\n",
       "\t10 & 5 & Student 5 & science\\_score & 83 \\\\\n",
       "\\end{tabular}\n"
      ],
      "text/plain": [
       "\u001b[1m10×4 DataFrame\u001b[0m\n",
       "\u001b[1m Row \u001b[0m│\u001b[1m id    \u001b[0m\u001b[1m name      \u001b[0m\u001b[1m subject       \u001b[0m\u001b[1m score \u001b[0m\n",
       "     │\u001b[90m Int64 \u001b[0m\u001b[90m String    \u001b[0m\u001b[90m String        \u001b[0m\u001b[90m Int64 \u001b[0m\n",
       "─────┼────────────────────────────────────────\n",
       "   1 │     1  Student 1  math_score        81\n",
       "   2 │     2  Student 2  math_score        84\n",
       "   3 │     3  Student 3  math_score        96\n",
       "   4 │     4  Student 4  math_score        67\n",
       "   5 │     5  Student 5  math_score        81\n",
       "   6 │     1  Student 1  science_score     81\n",
       "   7 │     2  Student 2  science_score     57\n",
       "   8 │     3  Student 3  science_score     82\n",
       "   9 │     4  Student 4  science_score     64\n",
       "  10 │     5  Student 5  science_score     83"
      ]
     },
     "execution_count": 17,
     "metadata": {},
     "output_type": "execute_result"
    }
   ],
   "source": [
    "# Create wide data\n",
    "wide_scores = @chain students[1:5, :] begin\n",
    "    @select(id, name, math_score, science_score)\n",
    "end\n",
    "\n",
    "println(\"Wide format:\")\n",
    "wide_scores\n",
    "\n",
    "# Convert to long format (using DataFrames stack function)\n",
    "long_scores = stack(wide_scores, [:math_score, :science_score], \n",
    "                    variable_name=:subject, value_name=:score)\n",
    "println(\"\\nLong format:\")\n",
    "first(long_scores, 10)"
   ]
  }
 ],
 "metadata": {
  "kernelspec": {
   "display_name": "Julia 1.11.5",
   "language": "julia",
   "name": "julia-1.11",
   "path": "/Users/andrew/Library/Jupyter/kernels/julia-1.11"
  },
  "language_info": {
   "file_extension": ".jl",
   "mimetype": "application/julia",
   "name": "julia",
   "version": "1.11.5"
  }
 },
 "nbformat": 4,
 "nbformat_minor": 5
}